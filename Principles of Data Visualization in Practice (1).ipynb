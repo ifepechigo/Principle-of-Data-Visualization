{
 "cells": [
  {
   "cell_type": "markdown",
   "id": "63775519",
   "metadata": {},
   "source": [
    "---\n",
    "tutorialtitle: \"Your Building Block Title (50-70 characters + most important keyword must be in the title atleast once)\"\n",
    "type: \"your-building-block-title (spaces replaced with - and no capitals)\"\n",
    "title: \"Your building block title (50-70 characters)\"\n",
    "description: \"A brief description of this tutorial page (130–160 characters + most important keyword must be in the descripion atleast once).\"\n",
    "keywords: \"any, relevant, keywords, separated, by, commas, like, this\"\n",
    "date: YYYY-MM-DD\n",
    "weight: #\n",
    "indexexclude: \"true\"\n",
    "author: \"Your Name\"\n",
    "authorlink: \"A link to your personal webpage\"\n",
    "aliases:\n",
    "  - /verb/noun\n",
    "  - /do/this\n",
    "  - /get/that\n",
    "  - add as many as you want, but at least one\n",
    "---"
   ]
  },
  {
   "cell_type": "markdown",
   "id": "56e55a0d",
   "metadata": {},
   "source": [
    "## OVERVIEW DATA VISUALIZATION\n",
    "\n",
    "Data visualization is a form of interpreting information by combining images such as charts, and graphs, with text. It has gained popularity across the scientific literature which helps with useful insights into data. This is beneficial to quickly and effectively convey information\n",
    "\n",
    "Generally, the purpose of visualization is to convey answers to concrete questions (like the distribution of values in a dataset or what is the maximum, minimum, or outlier values in a dataset) about a given problem and facts about a given problem we were not aware of. This is imperative as we will be able to extract an accurate understanding and interpretation of data.\n"
   ]
  },
  {
   "cell_type": "markdown",
   "id": "9251b042",
   "metadata": {},
   "source": [
    "\n",
    "there is no singular best way of displaying information and this write up will talk about some of the principles to consider and best practices "
   ]
  },
  {
   "cell_type": "markdown",
   "id": "9e43f7ec",
   "metadata": {},
   "source": [
    "### LOADING PACKAGES"
   ]
  },
  {
   "cell_type": "code",
   "execution_count": 1,
   "id": "ed807547",
   "metadata": {},
   "outputs": [],
   "source": [
    "import pandas as pd  # data processing, CSV file I/O (e.g. pd.read_csv)\n",
    "import numpy as np  # Linear algebra\n",
    "import matplotlib.pyplot as plt  # "
   ]
  },
  {
   "cell_type": "code",
   "execution_count": 3,
   "id": "a6849b28",
   "metadata": {
    "scrolled": true
   },
   "outputs": [
    {
     "data": {
      "text/html": [
       "<div>\n",
       "<style scoped>\n",
       "    .dataframe tbody tr th:only-of-type {\n",
       "        vertical-align: middle;\n",
       "    }\n",
       "\n",
       "    .dataframe tbody tr th {\n",
       "        vertical-align: top;\n",
       "    }\n",
       "\n",
       "    .dataframe thead th {\n",
       "        text-align: right;\n",
       "    }\n",
       "</style>\n",
       "<table border=\"1\" class=\"dataframe\">\n",
       "  <thead>\n",
       "    <tr style=\"text-align: right;\">\n",
       "      <th></th>\n",
       "      <th>song_name</th>\n",
       "      <th>song_popularity</th>\n",
       "      <th>song_duration_ms</th>\n",
       "      <th>acousticness</th>\n",
       "      <th>danceability</th>\n",
       "      <th>energy</th>\n",
       "      <th>instrumentalness</th>\n",
       "      <th>key</th>\n",
       "      <th>liveness</th>\n",
       "      <th>loudness</th>\n",
       "      <th>audio_mode</th>\n",
       "      <th>speechiness</th>\n",
       "      <th>tempo</th>\n",
       "      <th>time_signature</th>\n",
       "      <th>audio_valence</th>\n",
       "    </tr>\n",
       "  </thead>\n",
       "  <tbody>\n",
       "    <tr>\n",
       "      <th>0</th>\n",
       "      <td>Boulevard of Broken Dreams</td>\n",
       "      <td>73</td>\n",
       "      <td>262333</td>\n",
       "      <td>0.005520</td>\n",
       "      <td>0.496</td>\n",
       "      <td>0.682</td>\n",
       "      <td>0.000029</td>\n",
       "      <td>8</td>\n",
       "      <td>0.0589</td>\n",
       "      <td>-4.095</td>\n",
       "      <td>1</td>\n",
       "      <td>0.0294</td>\n",
       "      <td>167.060</td>\n",
       "      <td>4</td>\n",
       "      <td>0.474</td>\n",
       "    </tr>\n",
       "    <tr>\n",
       "      <th>1</th>\n",
       "      <td>In The End</td>\n",
       "      <td>66</td>\n",
       "      <td>216933</td>\n",
       "      <td>0.010300</td>\n",
       "      <td>0.542</td>\n",
       "      <td>0.853</td>\n",
       "      <td>0.000000</td>\n",
       "      <td>3</td>\n",
       "      <td>0.1080</td>\n",
       "      <td>-6.407</td>\n",
       "      <td>0</td>\n",
       "      <td>0.0498</td>\n",
       "      <td>105.256</td>\n",
       "      <td>4</td>\n",
       "      <td>0.370</td>\n",
       "    </tr>\n",
       "    <tr>\n",
       "      <th>2</th>\n",
       "      <td>Seven Nation Army</td>\n",
       "      <td>76</td>\n",
       "      <td>231733</td>\n",
       "      <td>0.008170</td>\n",
       "      <td>0.737</td>\n",
       "      <td>0.463</td>\n",
       "      <td>0.447000</td>\n",
       "      <td>0</td>\n",
       "      <td>0.2550</td>\n",
       "      <td>-7.828</td>\n",
       "      <td>1</td>\n",
       "      <td>0.0792</td>\n",
       "      <td>123.881</td>\n",
       "      <td>4</td>\n",
       "      <td>0.324</td>\n",
       "    </tr>\n",
       "    <tr>\n",
       "      <th>3</th>\n",
       "      <td>By The Way</td>\n",
       "      <td>74</td>\n",
       "      <td>216933</td>\n",
       "      <td>0.026400</td>\n",
       "      <td>0.451</td>\n",
       "      <td>0.970</td>\n",
       "      <td>0.003550</td>\n",
       "      <td>0</td>\n",
       "      <td>0.1020</td>\n",
       "      <td>-4.938</td>\n",
       "      <td>1</td>\n",
       "      <td>0.1070</td>\n",
       "      <td>122.444</td>\n",
       "      <td>4</td>\n",
       "      <td>0.198</td>\n",
       "    </tr>\n",
       "    <tr>\n",
       "      <th>4</th>\n",
       "      <td>How You Remind Me</td>\n",
       "      <td>56</td>\n",
       "      <td>223826</td>\n",
       "      <td>0.000954</td>\n",
       "      <td>0.447</td>\n",
       "      <td>0.766</td>\n",
       "      <td>0.000000</td>\n",
       "      <td>10</td>\n",
       "      <td>0.1130</td>\n",
       "      <td>-5.065</td>\n",
       "      <td>1</td>\n",
       "      <td>0.0313</td>\n",
       "      <td>172.011</td>\n",
       "      <td>4</td>\n",
       "      <td>0.574</td>\n",
       "    </tr>\n",
       "    <tr>\n",
       "      <th>...</th>\n",
       "      <td>...</td>\n",
       "      <td>...</td>\n",
       "      <td>...</td>\n",
       "      <td>...</td>\n",
       "      <td>...</td>\n",
       "      <td>...</td>\n",
       "      <td>...</td>\n",
       "      <td>...</td>\n",
       "      <td>...</td>\n",
       "      <td>...</td>\n",
       "      <td>...</td>\n",
       "      <td>...</td>\n",
       "      <td>...</td>\n",
       "      <td>...</td>\n",
       "      <td>...</td>\n",
       "    </tr>\n",
       "    <tr>\n",
       "      <th>18830</th>\n",
       "      <td>Let It Breathe</td>\n",
       "      <td>60</td>\n",
       "      <td>159645</td>\n",
       "      <td>0.893000</td>\n",
       "      <td>0.500</td>\n",
       "      <td>0.151</td>\n",
       "      <td>0.000065</td>\n",
       "      <td>11</td>\n",
       "      <td>0.1110</td>\n",
       "      <td>-16.107</td>\n",
       "      <td>1</td>\n",
       "      <td>0.0348</td>\n",
       "      <td>113.969</td>\n",
       "      <td>4</td>\n",
       "      <td>0.300</td>\n",
       "    </tr>\n",
       "    <tr>\n",
       "      <th>18831</th>\n",
       "      <td>Answers</td>\n",
       "      <td>60</td>\n",
       "      <td>205666</td>\n",
       "      <td>0.765000</td>\n",
       "      <td>0.495</td>\n",
       "      <td>0.161</td>\n",
       "      <td>0.000001</td>\n",
       "      <td>11</td>\n",
       "      <td>0.1050</td>\n",
       "      <td>-14.078</td>\n",
       "      <td>0</td>\n",
       "      <td>0.0301</td>\n",
       "      <td>94.286</td>\n",
       "      <td>4</td>\n",
       "      <td>0.265</td>\n",
       "    </tr>\n",
       "    <tr>\n",
       "      <th>18832</th>\n",
       "      <td>Sudden Love (Acoustic)</td>\n",
       "      <td>23</td>\n",
       "      <td>182211</td>\n",
       "      <td>0.847000</td>\n",
       "      <td>0.719</td>\n",
       "      <td>0.325</td>\n",
       "      <td>0.000000</td>\n",
       "      <td>0</td>\n",
       "      <td>0.1250</td>\n",
       "      <td>-12.222</td>\n",
       "      <td>1</td>\n",
       "      <td>0.0355</td>\n",
       "      <td>130.534</td>\n",
       "      <td>4</td>\n",
       "      <td>0.286</td>\n",
       "    </tr>\n",
       "    <tr>\n",
       "      <th>18833</th>\n",
       "      <td>Gentle on My Mind</td>\n",
       "      <td>55</td>\n",
       "      <td>352280</td>\n",
       "      <td>0.945000</td>\n",
       "      <td>0.488</td>\n",
       "      <td>0.326</td>\n",
       "      <td>0.015700</td>\n",
       "      <td>3</td>\n",
       "      <td>0.1190</td>\n",
       "      <td>-12.020</td>\n",
       "      <td>1</td>\n",
       "      <td>0.0328</td>\n",
       "      <td>106.063</td>\n",
       "      <td>4</td>\n",
       "      <td>0.323</td>\n",
       "    </tr>\n",
       "    <tr>\n",
       "      <th>18834</th>\n",
       "      <td>Up to Me</td>\n",
       "      <td>60</td>\n",
       "      <td>193533</td>\n",
       "      <td>0.911000</td>\n",
       "      <td>0.640</td>\n",
       "      <td>0.381</td>\n",
       "      <td>0.000254</td>\n",
       "      <td>4</td>\n",
       "      <td>0.1040</td>\n",
       "      <td>-11.790</td>\n",
       "      <td>1</td>\n",
       "      <td>0.0302</td>\n",
       "      <td>91.490</td>\n",
       "      <td>4</td>\n",
       "      <td>0.581</td>\n",
       "    </tr>\n",
       "  </tbody>\n",
       "</table>\n",
       "<p>18835 rows × 15 columns</p>\n",
       "</div>"
      ],
      "text/plain": [
       "                        song_name  song_popularity  song_duration_ms  \\\n",
       "0      Boulevard of Broken Dreams               73            262333   \n",
       "1                      In The End               66            216933   \n",
       "2               Seven Nation Army               76            231733   \n",
       "3                      By The Way               74            216933   \n",
       "4               How You Remind Me               56            223826   \n",
       "...                           ...              ...               ...   \n",
       "18830              Let It Breathe               60            159645   \n",
       "18831                     Answers               60            205666   \n",
       "18832      Sudden Love (Acoustic)               23            182211   \n",
       "18833           Gentle on My Mind               55            352280   \n",
       "18834                    Up to Me               60            193533   \n",
       "\n",
       "       acousticness  danceability  energy  instrumentalness  key  liveness  \\\n",
       "0          0.005520         0.496   0.682          0.000029    8    0.0589   \n",
       "1          0.010300         0.542   0.853          0.000000    3    0.1080   \n",
       "2          0.008170         0.737   0.463          0.447000    0    0.2550   \n",
       "3          0.026400         0.451   0.970          0.003550    0    0.1020   \n",
       "4          0.000954         0.447   0.766          0.000000   10    0.1130   \n",
       "...             ...           ...     ...               ...  ...       ...   \n",
       "18830      0.893000         0.500   0.151          0.000065   11    0.1110   \n",
       "18831      0.765000         0.495   0.161          0.000001   11    0.1050   \n",
       "18832      0.847000         0.719   0.325          0.000000    0    0.1250   \n",
       "18833      0.945000         0.488   0.326          0.015700    3    0.1190   \n",
       "18834      0.911000         0.640   0.381          0.000254    4    0.1040   \n",
       "\n",
       "       loudness  audio_mode  speechiness    tempo  time_signature  \\\n",
       "0        -4.095           1       0.0294  167.060               4   \n",
       "1        -6.407           0       0.0498  105.256               4   \n",
       "2        -7.828           1       0.0792  123.881               4   \n",
       "3        -4.938           1       0.1070  122.444               4   \n",
       "4        -5.065           1       0.0313  172.011               4   \n",
       "...         ...         ...          ...      ...             ...   \n",
       "18830   -16.107           1       0.0348  113.969               4   \n",
       "18831   -14.078           0       0.0301   94.286               4   \n",
       "18832   -12.222           1       0.0355  130.534               4   \n",
       "18833   -12.020           1       0.0328  106.063               4   \n",
       "18834   -11.790           1       0.0302   91.490               4   \n",
       "\n",
       "       audio_valence  \n",
       "0              0.474  \n",
       "1              0.370  \n",
       "2              0.324  \n",
       "3              0.198  \n",
       "4              0.574  \n",
       "...              ...  \n",
       "18830          0.300  \n",
       "18831          0.265  \n",
       "18832          0.286  \n",
       "18833          0.323  \n",
       "18834          0.581  \n",
       "\n",
       "[18835 rows x 15 columns]"
      ]
     },
     "execution_count": 3,
     "metadata": {},
     "output_type": "execute_result"
    }
   ],
   "source": [
    "# LOADING DATA\n",
    "song_data = pd.read_csv('song_data-Copy1.csv')\n"
   ]
  },
  {
   "cell_type": "markdown",
   "id": "ac9980c8",
   "metadata": {},
   "source": [
    "### Principles Of Data Visualization"
   ]
  },
  {
   "cell_type": "markdown",
   "id": "bd78bab7",
   "metadata": {},
   "source": [
    "#### 1 - HAVING A CLEAR PICTURE\n",
    "\n",
    "Prior to making a visualization, it is inherent to consider the core information to be conveyed what is the objective of the said visuals. Comparison? Ranking? etc. This may not be technical and can be done mentally and in addition, saving figures in scientific literature, you consider to be effective as they can help you develop an eye for detail and technical skills that can be applied to your figures.\n",
    "\n",
    "{{% tip %}}\n",
    "\n",
    "**This is a tip.**\n",
    "\n",
    "##### TABLES\n",
    "\n",
    "usually the first stpe into any exploaratory data analysis is to view the tables to get an overview of the structure and typr of data you are dealing with as they display summarized values and can be effective in referencing exact information. Tables are not often considered data visualization because they only include alpha-numeric information and no geometries or other visual elements. \n",
    "Despite the reluctance to consider tables as data visualization they are useful as they are best suited for looking up specific information.\n",
    "You can use special formatting options to highlight some paragraphs in your article.\n",
    "\n",
    "{{% /tip %}}\n",
    "\n",
    "{{% codeblock %}}\n",
    "\n",
    "```python\n",
    "# Table showing the rows and columns in the dataset\n",
    "song_data\n",
    "```\n",
    "\n",
    "{{% /codeblock %}}"
   ]
  },
  {
   "cell_type": "markdown",
   "id": "ee7d1e29",
   "metadata": {},
   "source": [
    "#### 2 - USE THE RIGHT SOFTWARE\n",
    "\n",
    "Typically having a good command of the right software for effective visuals, since it is not expected for a spreadsheet program to produce complex figures as it is not designed for such. Here we are using python libraries like Pandas, Matplotlib, Seaborn interchangeably.\n",
    "\n",
    "While it is beneficial that most visualization softwares are ready available, inexpensive or free and may come with large online help resources(documentation), it is then up to you to expand your knowledge on these softwares."
   ]
  },
  {
   "cell_type": "markdown",
   "id": "974abe23",
   "metadata": {},
   "source": [
    "#### 3 - EFFECTIVE GEOMETRY\n",
    "\n",
    "Use effective geometry for the right type of data\n",
    "\n",
    "Geometry is simply the shape or type of figure the visuals take for example bar geometry creates a bar plot. Geometry is the representation of data in different forms and there are several to consider when trying to visualize data.\n",
    "\n",
    "These geometries can be classified into categories and it is important to note that 1 geometry can work in more than one category, and a datset can be visualized using more than one geometry. We will focus on the most common geometries.\n",
    "\n",
    "Amounts (comparison) geometries should only be used when the data do not have distributional information or uncertainty associated with them. A barplot is a good example and a good use of bar plots might be to show counts of something while a bad use will be to show grouped data.\n",
    "\n",
    "\n",
    "\n",
    "Geometry refers to the shape or form of the visual elements used in data representation. For instance, when you use bar geometry, you create a bar plot. Geometry encompasses various ways of presenting data, and there are multiple options to choose from when visualizing data.\n",
    "\n",
    "These visual styles can be grouped into categories. It's worth noting that a single visual style can fall into more than one category, and you can represent a dataset using multiple visual styles. We will primarily focus on the most commonly used visual styles.\n",
    "\n",
    "Visual styles related to amounts or comparisons should be employed when your data lacks information about its distribution or uncertainty. For instance, a bar plot is a suitable example. Bar plots are effective for displaying counts of items. However, they are not well-suited for representing grouped data.\n",
    "\n",
    "\n",
    "It is recommended to show data in a way that does not detract from the geometry but provides context for the geometry. although the data provides core information yet in some figures the data can be neglected because of its simplicity.\n",
    "\n"
   ]
  },
  {
   "cell_type": "markdown",
   "id": "edbf86d7",
   "metadata": {},
   "source": [
    "##### Barplot\n",
    "\n",
    "Below is a barplot of the time signature of the songs in the dataset. Time signature denotes the amount of beat per bar and the figure below shows why using a barplot can be disadvantageous as part of the range covered by the bar might not be observed. \n",
    "\n",
    "```python \n",
    "\n",
    "song_data['time_signature'].value_counts().plot(kind='bar')\n",
    "```"
   ]
  },
  {
   "cell_type": "code",
   "execution_count": null,
   "id": "d878a383",
   "metadata": {},
   "outputs": [],
   "source": [
    "time_signature_count = song_data['time_signature'].value_counts()\n",
    "plt.figure(figsize=(6, 4))\n",
    "plt.bar(time_signature_count.index, time_signature_count.values)\n",
    "plt.title(\"Number of songs for each \")\n",
    "plt.xlabel(\"Number of \", fontsize=15)\n",
    "plt.ylabel(\"Transportation models\", fontsize=15)\n",
    "plt.show()"
   ]
  },
  {
   "cell_type": "code",
   "execution_count": null,
   "id": "8806dadf",
   "metadata": {},
   "outputs": [],
   "source": []
  },
  {
   "cell_type": "markdown",
   "id": "dedd4238",
   "metadata": {},
   "source": [
    "Compositions (proportions) geometries may take a wide range of geometries and traditionally the pie chart is an option but have been shunned for its difficulty in portraying visual comparison. the pie chart has no axes with a round structure. Mosaic plots and tree maps are alternatives.\n",
    "\n",
    "##### Pie chart (mosaic plot / tree maps)"
   ]
  },
  {
   "cell_type": "markdown",
   "id": "2868a648",
   "metadata": {},
   "source": [
    "*Distributions* (relationships) geometries demostrate high density data and the most common geometry used in this are the box plot, histogram, violin plot.\n",
    "\n",
    "##### Histograms\n",
    "\n",
    "A histogram is a graph applied to data broken down into numerically ordered groups. Each bin represents a particular group and its height is proportional to the frequency. They show a univariate distribution and are widely used for representing numeric data. This way we can be able to see the shape of the distribution. \n",
    "\n",
    "One uses a histogram to learn the spread of values and their scale (are they measured in tens? or hundreds? or millions?), and to understand the mode of the data (the most frequently occurring value).\n",
    "\n",
    "Let's first plot the 'Danceability' feature, which describes how danceable a song is.\n",
    "\n",
    "```python\n",
    "# The bins parameter regulates the number of bins(numerically ordered groups in data)\n",
    "song_data.plot(y = 'danceability', kind = 'hist', bins = 15)  \n",
    "```\n",
    "\n",
    "\n",
    "##### Boxplots\n",
    "\n",
    "Boxplot is a plot that shows the univariate distribution and is typically used for exploratory analysis and shows 5 types of info in one object: minimum, first quartile, second quartile (median), third quartile, and maximum.\n",
    "This kind of plot is useful to learn and compare the centers of the features (mean and median), and to identify the outliers. Here is the scheme, which describes how it works.\n",
    "\n",
    "To understand it better, let's look at how they are calculated. We take all the values in our array (running distances in our example) and sort them from smallest to largest. Then we divide this list into four equal parts; the points where we divide are the quartiles: the first quartile (Q1) denotes the first 25% of data, the second quartile (Q2, a median) – 50%, and the third (Q3) – 75%. Next, we calculate the interquartile range (IQR) – the difference between the third and first quartiles. Now, we can calculate minimum and maximum values. Minimum is Q1 – 1.5 * IQR and maximum is Q3 + 1.5 * IQR. All data points falling outside the range of minimum and maximum are outliers.\n",
    "\n",
    "```python\n",
    "# kind ?, showmeans?\n",
    "song_data.plot(y=['song_popularity'], kind='box', showmeans=True)\n",
    "```\n",
    "\n",
    "##### Scatter plot\n",
    "\n",
    "Scatterplot is typically used in the analysis of bivariate distribution and shows the relationship between 2 numeric variables plotting individual values as dots. The common practice is to put the explanatory variable on the x axis and the response variable on the y axis\n",
    "\n",
    "```python\n",
    "# \n",
    "plt.scatter(x=data[''], y=data[''], s=15, color='white', edgecolor='tab:blue')\n",
    "```"
   ]
  },
  {
   "cell_type": "markdown",
   "id": "c2023aeb",
   "metadata": {},
   "source": [
    "#### 4 - Colors\n",
    "\n",
    "The use of colors in visual presentations can be highly impactful because colorful visuals tend to be more memorable. However, it's important to use colors intentionally.\n",
    "\n",
    "Colors convey information directly or indirectly and can be categorized into three schemes: sequential, diverging, and qualitative.\n",
    "\n",
    "**Sequential** color schemes progress from light to dark, usually in one or two hues. They are commonly used to represent increasing values.\n",
    "\n",
    "**Diverging** color schemes consist of two sequential schemes that highlight two extremes, often with a neutral color in between.\n",
    "\n",
    "**Qualitative** colors are employed when the exact intensity of color is less important. Instead, the focus is on using different colors to indicate qualitative group differences.\n",
    "\n",
    "Some technical considerations when using colors include:\n",
    "\n",
    "Designing color figures that work well in both color and black-and-white formats whenever possible. This ensures that information remains clear when converted to grayscale.\n",
    "\n",
    "Combining colors with symbols, line types, and other design elements to convey the same information originally represented by color.\n",
    "\n",
    "It is good practice to use color schemes that are effective for color-blind readers.\n",
    "\n",
    "Remember that color is often the first visual cue readers encounter, so it should be strategically employed to enhance the message conveyed by your visuals."
   ]
  },
  {
   "cell_type": "markdown",
   "id": "381d7000",
   "metadata": {},
   "source": [
    "### 5 - Include Uncertainty\n",
    "\n",
    "Uncertainty is a vital aspect of understanding most systems. Failing to represent it in visuals can mislead. Two key challenges with visualizing uncertainty are not including it and misrepresenting it.\n",
    "\n",
    "Often, figures omit uncertainty, leaving gaps in the statistical message, potentially raising doubts about other aspects like mean inference. Including uncertainty is usually straightforward using common features like error bars or shaded intervals.\n",
    "\n",
    "You can visualize uncertainty either implicitly within existing geometries (e.g., box plots) or explicitly as separate geometries (e.g., error bars).\n",
    "\n",
    "Representing uncertainty is challenging. Metrics like standard deviation, standard error, confidence intervals, and credible intervals convey different information. Choosing the right one is crucial.\n",
    "\n",
    "Expressing uncertainty is essential, but so is interpreting it correctly. For instance, the mere presence of error bars doesn't guarantee significance; interpretation matters. Some even advise against using standard error due to its limitations. If possible, show the data, especially with small sample sizes, to avoid misinterpretations.\n",
    "\n",
    "\n",
    "\n",
    "Not only is uncertainty an inherent part of understanding mostsystems, failure to include uncertainty in a visual can bemisleading. There exist two primary challenges with includinguncertainty in visuals: failure to include uncertainty and misrep-resentation (or misinterpretation) of uncertainty.Uncertainty is often not included in figures and, therefore, partof the statistical message is left out—possibly calling into ques-tion other parts of the statistical message, such as inference onthe mean. Including uncertainty is typically easy in most softwareprograms, and can take the form of common geometries such aserror bars and shaded intervals (polygons), among other fea-tures.15Another way to approach visualizing uncertainty iswhether it is included implicitly into the existing geometries,such as in a box plot (Figure 1E) or distribution (Figures 1B and1G), or whether it is included explicitly as an additional geometry,such as an error bar or shaded region (Figure 1D).Representing uncertainty is often a challenge.23Standard de-viation, standard error, confidence intervals, and credible inter-vals are all common metrics of uncertainty, but each representsa different measure. Expressing uncertainty requires thatreaders be familiar with metrics of uncertainty and their interpre-tation; however, it is also the responsibility of the figure author toadopt the most appropriate measure of uncertainty. Forinstance, standard deviation is based on the spread of thedata and therefore shares information about the entire popula-tion, including the range in which we might expect new values.On the other hand, standard error is a measure of the uncertaintyin the mean (or some other estimate) and is strongly influencedby  sample  size—namely,  standard  error  decreases  withincreasing sample size. Confidence intervals are primarily fordisplaying the reliability of a measurement. Credible intervals,almost exclusively associated with Bayesian methods, are typi-cally built off distributions and have probabilistic interpretations.Expressing uncertainty is important, but it is also important tointerpret the correct message. Krzywinski and Altman23directlyaddress a common misconception: ‘‘a gap between (error) barsdoes not ensure significance, nor does overlap rule it out—it de-pends on the type of bar.’’ This is a good reminder to be veryclear not only in stating what type of uncertainty you are sharing,but what the interpretation is. Others16even go so far as torecommend that standard error not be used because it doesnot provide clear information about standard errors of differ-ences among means. One recommendation to go along with ex-pressing uncertainty is, if possible, to show the data (seeUse anEffective Geometry and Show Data). Particularly when the sam-ple size is low, showing a reader where the data occur can helpavoid misinterpretations of uncertainty"
   ]
  },
  {
   "cell_type": "markdown",
   "id": "357037ab",
   "metadata": {},
   "source": [
    "### 6 - Panelling\n",
    "\n",
    "An effective visual technique is to use small multiples, which involves repeating a figure to emphasize differences. This approach, also known as paneling or faceting, aims to enhance comparisons by keeping design elements consistent across panels. Each panel typically represents a variation in one variable, such as time, groups, or factors, ensuring that data comparisons are clear and straightforward. The goal of small multiples is to make data naturally comparable, ensuring effective visual comparisons\n",
    "\n",
    "\n",
    "\n",
    "\n",
    "A particularly effective visual approach is to repeat a figure tohighlight differences. This approach is often called small multiples, and the technique may be referred to as paneling orfaceting (Figure 1G). The strategy behind small multiples is thatbecause many of the design elements are the same—forexample, the axes, axes scales, and geometry are often thesame—the differences in the data are easier to show. In otherwords, each panel represents a change in one variable, whichis commonly a time step, a group, or some other factor. Theobjective of small multiples is to make the data inevitably compa-rable,7and effective small multiples always accomplish thesecomparisons"
   ]
  },
  {
   "cell_type": "markdown",
   "id": "c021eaec",
   "metadata": {},
   "source": [
    "### 7 - Detailed captions\n",
    "\n",
    "While emphasizing high data-ink ratios is crucial, it's equally vital to provide comprehensive captions that thoroughly clarify the content within the figure. A study conducted on figures in the Journal of American Medicine revealed that over one-third of graphs lacked self-explanatory qualities.\n",
    "\n",
    "Captions should be self-sufficient. This means that if the figure and its caption were examined independently from the rest of the study, the primary message(s) should still be clear. While it's acknowledged that some statistical models and procedures may require more than just a caption for explanation, the fundamental principle remains that captions should make every effort to elucidate the visualization and representations utilized.\n",
    "\n",
    "For example, captions should elucidate any geometries employed. Even in a simple scatterplot, it should explicitly state that the black dots represent the data (Figures 1C–1E). Box plots also demand descriptions of their structure. While certain aspects of a box plot might be assumed, not all box plot symbols are universally understood.\n",
    "\n",
    "\n",
    "\n",
    "As important as it is to use high data-ink ratios, it is equallyimportant to have detailed captions that fully explain everythingin the figure. A study of figures in theJournal of American Med-icine8found that more than one-third of graphs were not self-explanatory. Captions should be standalone, which means thatif the figure and caption were looked at independent from therest of the study, the major point(s) could still be understood.Obviously not all figures can be completely standalone, assome statistical models and other procedures require morethan a caption as explanation. However, the principle remainsthat captions should do all they can to explain the visualizationand representations used. Captions should explain any geome-tries used; for instance, even in a simple scatterplot it should bestated that the black dots represent the data (Figures 1C–1E).Box plots also require descriptions of their geometry—it mightbe assumed what the features of a box plot are, yet not all boxplot symbols are universal"
   ]
  },
  {
   "cell_type": "markdown",
   "id": "c7d98411",
   "metadata": {},
   "source": [
    "### 8 - Get an opinion\n",
    "\n",
    "While there are principles and theories about effective data visualization, the truth is that the most effective visuals are the ones that resonate with readers. Therefore, authors are encouraged to have external reviewers assess their figures. Often, figures are created hastily during the writing process and are not objectively reviewed.\n",
    "\n",
    "Getting colleagues or external individuals to review your figures can offer valuable feedback on what readers find effective or not. It's also advisable to have these reviewers focus solely on the figures. This not only saves time but allows them to provide feedback exclusively on the visuals without the context of the accompanying text.\n",
    "\n",
    "\n",
    "\n",
    "\n",
    "Although there may be principles and theories about effectivedata visualization, the reality is that the most effective visualsare the ones with which readers connect. Therefore, figure au-thors are encouraged to seek external reviews of their figures.So often when writing a study, the figures are quickly made,and even if thoughtfully made they are not subject to objective,outside review. Having one or more colleagues or peopleexternal to the study review figures will often provide useful feed-back on what readers perceive, and therefore what is effective orineffective in a visual. It is also recommended to have outsidecolleagues review only the figures. Not only might this pleaseyour colleague reviewers (because figure reviews require sub-stantially less time than full document reviews), but it also allowsthem to provide feedback purely on the figures as they will nothave the document text to fill in any uncertainties left by thevisuals.\n"
   ]
  },
  {
   "cell_type": "code",
   "execution_count": null,
   "id": "49486a76",
   "metadata": {},
   "outputs": [],
   "source": []
  },
  {
   "cell_type": "code",
   "execution_count": null,
   "id": "625d344a",
   "metadata": {},
   "outputs": [],
   "source": []
  },
  {
   "cell_type": "code",
   "execution_count": null,
   "id": "67cd1142",
   "metadata": {},
   "outputs": [],
   "source": []
  },
  {
   "cell_type": "code",
   "execution_count": null,
   "id": "1b4d24d8",
   "metadata": {},
   "outputs": [],
   "source": []
  },
  {
   "cell_type": "code",
   "execution_count": null,
   "id": "3e4a3f2e",
   "metadata": {},
   "outputs": [],
   "source": []
  },
  {
   "cell_type": "code",
   "execution_count": 4,
   "id": "a45078d7",
   "metadata": {},
   "outputs": [
    {
     "data": {
      "text/plain": [
       "<AxesSubplot:ylabel='Frequency'>"
      ]
     },
     "execution_count": 4,
     "metadata": {},
     "output_type": "execute_result"
    },
    {
     "data": {
      "image/png": "[encoded data removed]",
      "text/plain": [
       "<Figure size 640x480 with 1 Axes>"
      ]
     },
     "metadata": {},
     "output_type": "display_data"
    }
   ],
   "source": [
    "# The bins parameter regulates the number of bins(numerically ordered groups in data)\n",
    "song_data.plot(y = 'danceability', kind = 'hist', bins = 15)  "
   ]
  },
  {
   "cell_type": "markdown",
   "id": "30f2dbae",
   "metadata": {},
   "source": [
    "At this point, it is important to take a pause and analyze the graph. Firstly, it is a continuous variable (can take on an uncountable set of values). Secondly, the values fall between 0 and 0.8. We can also see that the mode of the data is about 0.15.\n",
    "\n",
    "The maximum score of 'Generosity' is about 0.8, and there is only one country, which has 'Generosity' higher than 0.6. You may be interested what country that is, and it is Myanmar, whose 'Happiness Rank' is 129 out of 157. We can interpret the value as a proportion of generous people in a given country. 0 (or 0%) means there are no generous people, and 1 (or 100%) means that all people are generous."
   ]
  },
  {
   "cell_type": "markdown",
   "id": "5cf0b02f",
   "metadata": {},
   "source": []
  },
  {
   "cell_type": "code",
   "execution_count": 6,
   "id": "06ec60c0",
   "metadata": {},
   "outputs": [
    {
     "data": {
      "text/plain": [
       "<AxesSubplot:>"
      ]
     },
     "execution_count": 6,
     "metadata": {},
     "output_type": "execute_result"
    },
    {
     "data": {
      "image/png": "[encoded data removed]",
      "text/plain": [
       "<Figure size 640x480 with 1 Axes>"
      ]
     },
     "metadata": {},
     "output_type": "display_data"
    }
   ],
   "source": [
    "song_data.plot(y=['danceability', 'song_popularity'], kind='box', showmeans=True)"
   ]
  },
  {
   "cell_type": "markdown",
   "id": "7093d580",
   "metadata": {},
   "source": [
    "### Barplot\n",
    "\n",
    "Below is a barplot of the time signature of each song in our dataset. Time signature denotes the amount of beat per bar and the figure below shows why using a barplot can be disadvantageous as part of the range covered by the bar might not be observed. \n",
    "\n"
   ]
  },
  {
   "cell_type": "markdown",
   "id": "58d7acb0",
   "metadata": {},
   "source": [
    "\n"
   ]
  },
  {
   "cell_type": "code",
   "execution_count": null,
   "id": "017f9e01",
   "metadata": {},
   "outputs": [],
   "source": [
    "plt.scatter(x=data['speed'], y=data['heart_rate'], s=15, color='white', edgecolor='tab:blue')"
   ]
  },
  {
   "cell_type": "markdown",
   "id": "ef5be64d",
   "metadata": {},
   "source": []
  },
  {
   "cell_type": "code",
   "execution_count": null,
   "id": "eeaa5db8",
   "metadata": {},
   "outputs": [],
   "source": []
  },
  {
   "cell_type": "markdown",
   "id": "99fffb43",
   "metadata": {},
   "source": []
  },
  {
   "cell_type": "markdown",
   "id": "f219ec11",
   "metadata": {},
   "source": []
  },
  {
   "cell_type": "markdown",
   "id": "717bb1e5",
   "metadata": {},
   "source": []
  },
  {
   "cell_type": "markdown",
   "id": "31568b01",
   "metadata": {},
   "source": []
  },
  {
   "cell_type": "markdown",
   "id": "e04f9ec6",
   "metadata": {},
   "source": []
  },
  {
   "cell_type": "code",
   "execution_count": null,
   "id": "4d710202",
   "metadata": {},
   "outputs": [],
   "source": []
  }
 ],
 "metadata": {
  "kernelspec": {
   "display_name": "Python 3 (ipykernel)",
   "language": "python",
   "name": "python3"
  },
  "language_info": {
   "codemirror_mode": {
    "name": "ipython",
    "version": 3
   },
   "file_extension": ".py",
   "mimetype": "text/x-python",
   "name": "python",
   "nbconvert_exporter": "python",
   "pygments_lexer": "ipython3",
   "version": "3.9.13"
  }
 },
 "nbformat": 4,
 "nbformat_minor": 5
}
